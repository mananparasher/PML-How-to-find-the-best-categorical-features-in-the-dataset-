{
 "cells": [
  {
   "cell_type": "markdown",
   "metadata": {},
   "source": [
    "## Import the Libraries"
   ]
  },
  {
   "cell_type": "code",
   "execution_count": null,
   "metadata": {},
   "outputs": [],
   "source": [
    "import pathlib\n",
    "import numpy as np\n",
    "import pandas as pd\n",
    "import matplotlib.pyplot as plt\n",
    "import seaborn as sns\n",
    "from sklearn.preprocessing import OrdinalEncoder\n",
    "from sklearn.feature_selection import SelectKBest\n",
    "from sklearn.feature_selection import chi2"
   ]
  },
  {
   "cell_type": "markdown",
   "metadata": {},
   "source": [
    "## Import the Dataset "
   ]
  },
  {
   "cell_type": "code",
   "execution_count": 7,
   "metadata": {
    "colab": {
     "base_uri": "https://localhost:8080/",
     "height": 204
    },
    "colab_type": "code",
    "id": "YR44EmeRQ4Gg",
    "outputId": "b34c1f24-6b67-48a6-e002-9605a29cbb68"
   },
   "outputs": [
    {
     "name": "stdout",
     "output_type": "stream",
     "text": [
      "--2020-07-10 01:52:45--  https://archive.ics.uci.edu/ml/machine-learning-databases/car/car.data\n",
      "Resolving archive.ics.uci.edu (archive.ics.uci.edu)... 128.195.10.252\n",
      "Connecting to archive.ics.uci.edu (archive.ics.uci.edu)|128.195.10.252|:443... connected.\n",
      "HTTP request sent, awaiting response... 200 OK\n",
      "Length: 51867 (51K) [application/x-httpd-php]\n",
      "Saving to: ‘car.data.1’\n",
      "\n",
      "\r",
      "car.data.1            0%[                    ]       0  --.-KB/s               \r",
      "car.data.1          100%[===================>]  50.65K  --.-KB/s    in 0.1s    \n",
      "\n",
      "2020-07-10 01:52:46 (401 KB/s) - ‘car.data.1’ saved [51867/51867]\n",
      "\n"
     ]
    }
   ],
   "source": [
    "!wget https://archive.ics.uci.edu/ml/machine-learning-databases/car/car.data"
   ]
  },
  {
   "cell_type": "markdown",
   "metadata": {},
   "source": [
    "## Explore the Dataset "
   ]
  },
  {
   "cell_type": "code",
   "execution_count": 8,
   "metadata": {
    "colab": {},
    "colab_type": "code",
    "id": "OSYsZYiEatO-"
   },
   "outputs": [],
   "source": [
    "column_names = ['price','buying','maint','doors','persons','lug_boot','safety']  \n",
    "\n",
    "dataset = pd.read_csv('car.data', names=column_names,\n",
    "                      na_values = \"?\", comment='\\t',\n",
    "                      sep=\",\", skipinitialspace=True)\n"
   ]
  },
  {
   "cell_type": "code",
   "execution_count": 9,
   "metadata": {
    "colab": {
     "base_uri": "https://localhost:8080/",
     "height": 255
    },
    "colab_type": "code",
    "id": "so7KfyWOP9vm",
    "outputId": "bfed74f3-fa71-42b4-895d-c5f3559e31f0"
   },
   "outputs": [
    {
     "name": "stdout",
     "output_type": "stream",
     "text": [
      "<class 'pandas.core.frame.DataFrame'>\n",
      "RangeIndex: 1728 entries, 0 to 1727\n",
      "Data columns (total 7 columns):\n",
      " #   Column    Non-Null Count  Dtype \n",
      "---  ------    --------------  ----- \n",
      " 0   price     1728 non-null   object\n",
      " 1   buying    1728 non-null   object\n",
      " 2   maint     1728 non-null   object\n",
      " 3   doors     1728 non-null   object\n",
      " 4   persons   1728 non-null   object\n",
      " 5   lug_boot  1728 non-null   object\n",
      " 6   safety    1728 non-null   object\n",
      "dtypes: object(7)\n",
      "memory usage: 94.6+ KB\n"
     ]
    }
   ],
   "source": [
    "dataset.info()"
   ]
  },
  {
   "cell_type": "code",
   "execution_count": 10,
   "metadata": {
    "colab": {
     "base_uri": "https://localhost:8080/",
     "height": 34
    },
    "colab_type": "code",
    "id": "7ag5L6Kaz8r_",
    "outputId": "65c5341f-3ee6-4b4b-98ec-c2cfed11144e"
   },
   "outputs": [
    {
     "data": {
      "text/plain": [
       "array(['unacc', 'acc', 'vgood', 'good'], dtype=object)"
      ]
     },
     "execution_count": 10,
     "metadata": {
      "tags": []
     },
     "output_type": "execute_result"
    }
   ],
   "source": [
    "dataset['safety'].unique()"
   ]
  },
  {
   "cell_type": "code",
   "execution_count": 11,
   "metadata": {
    "colab": {},
    "colab_type": "code",
    "id": "x9zQXF55t6NM"
   },
   "outputs": [],
   "source": [
    "def categorical_to_numericla(value):\n",
    "  if value=='unacc':\n",
    "    return(0)\n",
    "  elif value=='acc':\n",
    "    return(1)\n",
    "  elif value=='good': \n",
    "    return(2)\n",
    "  else:\n",
    "    return(3)\n",
    "\n",
    "dataset['safety']=dataset['safety'].apply(lambda x: categorical_to_numericla(x))"
   ]
  },
  {
   "cell_type": "code",
   "execution_count": 12,
   "metadata": {
    "colab": {},
    "colab_type": "code",
    "id": "gOQInOKDsF9J"
   },
   "outputs": [],
   "source": [
    "y=dataset.pop('safety')\n",
    "X=dataset"
   ]
  },
  {
   "cell_type": "markdown",
   "metadata": {},
   "source": [
    "## Convert Categorical Columns into Numerical Columns "
   ]
  },
  {
   "cell_type": "code",
   "execution_count": 13,
   "metadata": {
    "colab": {
     "base_uri": "https://localhost:8080/",
     "height": 136
    },
    "colab_type": "code",
    "id": "oYdM4eNgtp5H",
    "outputId": "77953076-bbe1-4630-dc01-1f60d6f8fa1d"
   },
   "outputs": [
    {
     "data": {
      "text/plain": [
       "array([[3., 3., 0., 0., 2., 1.],\n",
       "       [3., 3., 0., 0., 2., 2.],\n",
       "       [3., 3., 0., 0., 2., 0.],\n",
       "       ...,\n",
       "       [1., 1., 3., 2., 0., 1.],\n",
       "       [1., 1., 3., 2., 0., 2.],\n",
       "       [1., 1., 3., 2., 0., 0.]])"
      ]
     },
     "execution_count": 13,
     "metadata": {
      "tags": []
     },
     "output_type": "execute_result"
    }
   ],
   "source": [
    "ordinalencoder = OrdinalEncoder()\n",
    "ordinalencoder.fit(X)\n",
    "X_transformed = ordinalencoder.transform(X)\n",
    "X_transformed"
   ]
  },
  {
   "cell_type": "markdown",
   "metadata": {},
   "source": [
    "## SelectKBest Implementation"
   ]
  },
  {
   "cell_type": "code",
   "execution_count": 14,
   "metadata": {
    "colab": {
     "base_uri": "https://localhost:8080/",
     "height": 136
    },
    "colab_type": "code",
    "id": "i7D8qCYdx-DZ",
    "outputId": "0f1963cb-ddd3-4895-d879-c1a84905b0b6"
   },
   "outputs": [
    {
     "data": {
      "text/plain": [
       "array([['2', 'small', 'low'],\n",
       "       ['2', 'small', 'med'],\n",
       "       ['2', 'small', 'high'],\n",
       "       ...,\n",
       "       ['more', 'big', 'low'],\n",
       "       ['more', 'big', 'med'],\n",
       "       ['more', 'big', 'high']], dtype=object)"
      ]
     },
     "execution_count": 14,
     "metadata": {
      "tags": []
     },
     "output_type": "execute_result"
    }
   ],
   "source": [
    "selectkbest = SelectKBest(score_func=chi2, k=3)\n",
    "selectkbest.fit(X_transformed, y)\n",
    "best_columns = selectkbest.transform(X)\n",
    "best_columns"
   ]
  },
  {
   "cell_type": "markdown",
   "metadata": {},
   "source": [
    "## Visualize with Barplot "
   ]
  },
  {
   "cell_type": "code",
   "execution_count": 17,
   "metadata": {
    "colab": {
     "base_uri": "https://localhost:8080/",
     "height": 639
    },
    "colab_type": "code",
    "id": "_F11G2UJ55o7",
    "outputId": "800e2c91-8702-49f1-9099-9bcee324a58f"
   },
   "outputs": [
    {
     "data": {
      "text/plain": [
       "[Text(0, 0.5, 'Importance'), Text(0.5, 0, 'Columns')]"
      ]
     },
     "execution_count": 17,
     "metadata": {
      "tags": []
     },
     "output_type": "execute_result"
    },
    {
     "data": {
      "image/png": "[encoded data removed]",
      "text/plain": [
       "<Figure size 1440x720 with 1 Axes>"
      ]
     },
     "metadata": {
      "needs_background": "light",
      "tags": []
     },
     "output_type": "display_data"
    }
   ],
   "source": [
    "indices = np.argsort(selectkbest.scores_)[::-1]\n",
    "\n",
    "features = []\n",
    "for i in range(6):\n",
    "    features.append(X.columns[indices[i]])\n",
    "\n",
    "fig, ax = plt.subplots(figsize=(20,10))     \n",
    "\n",
    "sns.barplot(x=features, y=selectkbest.scores_[indices[range(6)]],\\\n",
    "            label=\"Importtant Categorical Features\", palette=(\"Blues_d\"),ax=ax).set_title('Categorical Features Importance')\n",
    "\n",
    "ax.set(xlabel=\"Columns\", ylabel = \"Importance\")"
   ]
  }
 ],
 "metadata": {
  "colab": {
   "collapsed_sections": [],
   "name": "categorical to features.ipynb",
   "provenance": []
  },
  "kernelspec": {
   "display_name": "Python 3",
   "language": "python",
   "name": "python3"
  },
  "language_info": {
   "codemirror_mode": {
    "name": "ipython",
    "version": 3
   },
   "file_extension": ".py",
   "mimetype": "text/x-python",
   "name": "python",
   "nbconvert_exporter": "python",
   "pygments_lexer": "ipython3",
   "version": "3.7.4"
  }
 },
 "nbformat": 4,
 "nbformat_minor": 1
}
